{
  "nbformat": 4,
  "nbformat_minor": 0,
  "metadata": {
    "colab": {
      "name": "EDA.ipynb",
      "provenance": [],
      "collapsed_sections": []
    },
    "kernelspec": {
      "name": "python3",
      "display_name": "Python 3"
    },
    "language_info": {
      "name": "python"
    }
  },
  "cells": [
    {
      "cell_type": "code",
      "source": [
        "from google.colab import drive\n",
        "drive.mount('/content/drive')"
      ],
      "metadata": {
        "colab": {
          "base_uri": "https://localhost:8080/"
        },
        "id": "euVDvCVA3nq3",
        "outputId": "0ebc5d46-f040-46c1-cc4f-10835d0abf72"
      },
      "execution_count": null,
      "outputs": [
        {
          "output_type": "stream",
          "name": "stdout",
          "text": [
            "Drive already mounted at /content/drive; to attempt to forcibly remount, call drive.mount(\"/content/drive\", force_remount=True).\n"
          ]
        }
      ]
    },
    {
      "cell_type": "code",
      "execution_count": null,
      "metadata": {
        "id": "qs4Z3_Kt-pws"
      },
      "outputs": [],
      "source": [
        "import pandas as pd\n",
        "import numpy as np"
      ]
    },
    {
      "cell_type": "code",
      "source": [
        "df = pd.read_csv('/content/drive/MyDrive/data/movie_data_1950_2020.csv')"
      ],
      "metadata": {
        "id": "cG7--SUo-y1_"
      },
      "execution_count": null,
      "outputs": []
    },
    {
      "cell_type": "code",
      "source": [
        "df.shape"
      ],
      "metadata": {
        "colab": {
          "base_uri": "https://localhost:8080/"
        },
        "id": "zBYmEwY87OV3",
        "outputId": "f5a219ff-4c72-4a12-aa9e-ef32feb10474"
      },
      "execution_count": null,
      "outputs": [
        {
          "output_type": "execute_result",
          "data": {
            "text/plain": [
              "(16329, 28)"
            ]
          },
          "metadata": {},
          "execution_count": 27
        }
      ]
    },
    {
      "cell_type": "code",
      "source": [
        "df.dtypes"
      ],
      "metadata": {
        "colab": {
          "base_uri": "https://localhost:8080/"
        },
        "id": "LX9EiRmg89Uo",
        "outputId": "f49dfb9c-7c44-482f-e09e-83e86bd52482"
      },
      "execution_count": null,
      "outputs": [
        {
          "output_type": "execute_result",
          "data": {
            "text/plain": [
              "query                     object\n",
              "title                     object\n",
              "subtitle                  object\n",
              "maturity_rating           object\n",
              "release_year              object\n",
              "genre                     object\n",
              "duration                  object\n",
              "title_link                object\n",
              "description               object\n",
              "IMDb_link                 object\n",
              "IMDb_rating               object\n",
              "rotten_tomatoes_link      object\n",
              "rotten_tomatoes_rating    object\n",
              "meta_critic_link          object\n",
              "meta_critic_rating        object\n",
              "indie_wire_link           object\n",
              "indie_wire_rating         object\n",
              "p_google_likes            object\n",
              "box_office                object\n",
              "release_date              object\n",
              "directors                 object\n",
              "awards                    object\n",
              "film_series               object\n",
              "producers                 object\n",
              "budget                    object\n",
              "critic_reviews_html       object\n",
              "audience_reviews_html     object\n",
              "kp_whole_page_html        object\n",
              "dtype: object"
            ]
          },
          "metadata": {},
          "execution_count": 28
        }
      ]
    },
    {
      "cell_type": "code",
      "source": [
        "df.head()"
      ],
      "metadata": {
        "colab": {
          "base_uri": "https://localhost:8080/",
          "height": 704
        },
        "id": "qWjkAYBH-znD",
        "outputId": "dd6bc7ac-5423-4f59-c6e0-52fd13d7bc2c"
      },
      "execution_count": null,
      "outputs": [
        {
          "output_type": "execute_result",
          "data": {
            "text/html": [
              "\n",
              "  <div id=\"df-f313917b-a0f2-4685-ad4c-08a6b21bb5bf\">\n",
              "    <div class=\"colab-df-container\">\n",
              "      <div>\n",
              "<style scoped>\n",
              "    .dataframe tbody tr th:only-of-type {\n",
              "        vertical-align: middle;\n",
              "    }\n",
              "\n",
              "    .dataframe tbody tr th {\n",
              "        vertical-align: top;\n",
              "    }\n",
              "\n",
              "    .dataframe thead th {\n",
              "        text-align: right;\n",
              "    }\n",
              "</style>\n",
              "<table border=\"1\" class=\"dataframe\">\n",
              "  <thead>\n",
              "    <tr style=\"text-align: right;\">\n",
              "      <th></th>\n",
              "      <th>query</th>\n",
              "      <th>title</th>\n",
              "      <th>subtitle</th>\n",
              "      <th>maturity_rating</th>\n",
              "      <th>release_year</th>\n",
              "      <th>genre</th>\n",
              "      <th>duration</th>\n",
              "      <th>title_link</th>\n",
              "      <th>description</th>\n",
              "      <th>IMDb_link</th>\n",
              "      <th>IMDb_rating</th>\n",
              "      <th>rotten_tomatoes_link</th>\n",
              "      <th>rotten_tomatoes_rating</th>\n",
              "      <th>meta_critic_link</th>\n",
              "      <th>meta_critic_rating</th>\n",
              "      <th>indie_wire_link</th>\n",
              "      <th>indie_wire_rating</th>\n",
              "      <th>p_google_likes</th>\n",
              "      <th>box_office</th>\n",
              "      <th>release_date</th>\n",
              "      <th>directors</th>\n",
              "      <th>awards</th>\n",
              "      <th>film_series</th>\n",
              "      <th>producers</th>\n",
              "      <th>budget</th>\n",
              "      <th>critic_reviews_html</th>\n",
              "      <th>audience_reviews_html</th>\n",
              "      <th>kp_whole_page_html</th>\n",
              "    </tr>\n",
              "  </thead>\n",
              "  <tbody>\n",
              "    <tr>\n",
              "      <th>0</th>\n",
              "      <td>The 13th Letter movie 1951</td>\n",
              "      <td>The 13th Letter</td>\n",
              "      <td>NaN</td>\n",
              "      <td>NaN</td>\n",
              "      <td>NaN</td>\n",
              "      <td>NaN</td>\n",
              "      <td>NaN</td>\n",
              "      <td>NaN</td>\n",
              "      <td>When Dr. Pearson (Michael Rennie) comes to a q...</td>\n",
              "      <td>https://www.imdb.com/title/tt0043251/</td>\n",
              "      <td>6.4/10</td>\n",
              "      <td>https://www.rottentomatoes.com/m/13th_letter</td>\n",
              "      <td>86%</td>\n",
              "      <td>NaN</td>\n",
              "      <td>NaN</td>\n",
              "      <td>NaN</td>\n",
              "      <td>NaN</td>\n",
              "      <td>Did</td>\n",
              "      <td>NaN</td>\n",
              "      <td>January 19, 1951 (USA)</td>\n",
              "      <td>Director: Otto Preminger</td>\n",
              "      <td>NaN</td>\n",
              "      <td>NaN</td>\n",
              "      <td>Producer: Otto Preminger</td>\n",
              "      <td>NaN</td>\n",
              "      <td>NaN</td>\n",
              "      <td>&lt;div class=\"wDYxhc\" data-attrid=\"kc:/ugc:user_...</td>\n",
              "      <td>[&lt;div class=\"kp-wholepage kp-wholepage-osrp HS...</td>\n",
              "    </tr>\n",
              "    <tr>\n",
              "      <th>1</th>\n",
              "      <td>Abbott and Costello Meet the Invisible Man mov...</td>\n",
              "      <td>Abbott and Costello Meet the Invisible Man</td>\n",
              "      <td>NaN</td>\n",
              "      <td>NaN</td>\n",
              "      <td>NaN</td>\n",
              "      <td>NaN</td>\n",
              "      <td>NaN</td>\n",
              "      <td>NaN</td>\n",
              "      <td>Two detective-school graduates (Bud Abbott, Lo...</td>\n",
              "      <td>https://www.imdb.com/title/tt0043255/</td>\n",
              "      <td>6.8/10</td>\n",
              "      <td>https://www.rottentomatoes.com/m/abbott_and_co...</td>\n",
              "      <td>80%</td>\n",
              "      <td>NaN</td>\n",
              "      <td>NaN</td>\n",
              "      <td>NaN</td>\n",
              "      <td>NaN</td>\n",
              "      <td>96%</td>\n",
              "      <td>1.55 million USD (US rentals)</td>\n",
              "      <td>NaN</td>\n",
              "      <td>Director: Charles Lamont</td>\n",
              "      <td>NaN</td>\n",
              "      <td>Abbott and Costello</td>\n",
              "      <td>NaN</td>\n",
              "      <td>NaN</td>\n",
              "      <td>NaN</td>\n",
              "      <td>&lt;div class=\"wDYxhc\" data-attrid=\"kc:/ugc:user_...</td>\n",
              "      <td>[&lt;div class=\"kp-wholepage kp-wholepage-osrp HS...</td>\n",
              "    </tr>\n",
              "    <tr>\n",
              "      <th>2</th>\n",
              "      <td>Abilene Trail movie 1951</td>\n",
              "      <td>Abilene Trail</td>\n",
              "      <td>NaN</td>\n",
              "      <td>NaN</td>\n",
              "      <td>NaN</td>\n",
              "      <td>NaN</td>\n",
              "      <td>NaN</td>\n",
              "      <td>NaN</td>\n",
              "      <td>The Kansas Kid (Whip Wilson) and his partner (...</td>\n",
              "      <td>https://www.imdb.com/title/tt0043257/</td>\n",
              "      <td>6.5/10 ·</td>\n",
              "      <td>NaN</td>\n",
              "      <td>NaN</td>\n",
              "      <td>NaN</td>\n",
              "      <td>NaN</td>\n",
              "      <td>NaN</td>\n",
              "      <td>NaN</td>\n",
              "      <td>Did</td>\n",
              "      <td>NaN</td>\n",
              "      <td>NaN</td>\n",
              "      <td>Director: Lewis D. Collins</td>\n",
              "      <td>NaN</td>\n",
              "      <td>NaN</td>\n",
              "      <td>Producer: Vincent M. Fennelly</td>\n",
              "      <td>NaN</td>\n",
              "      <td>NaN</td>\n",
              "      <td>&lt;div class=\"wDYxhc\" data-attrid=\"kc:/ugc:user_...</td>\n",
              "      <td>[&lt;div class=\"kp-wholepage kp-wholepage-osrp HS...</td>\n",
              "    </tr>\n",
              "    <tr>\n",
              "      <th>3</th>\n",
              "      <td>According to Mrs. Hoyle movie 1951</td>\n",
              "      <td>According to Mrs. Hoyle</td>\n",
              "      <td>NaN</td>\n",
              "      <td>NaN</td>\n",
              "      <td>NaN</td>\n",
              "      <td>NaN</td>\n",
              "      <td>NaN</td>\n",
              "      <td>NaN</td>\n",
              "      <td>Gangsters buy the shabby hotel where a retired...</td>\n",
              "      <td>https://www.imdb.com/title/tt0043260/</td>\n",
              "      <td>6.3/10 ·</td>\n",
              "      <td>NaN</td>\n",
              "      <td>NaN</td>\n",
              "      <td>NaN</td>\n",
              "      <td>NaN</td>\n",
              "      <td>NaN</td>\n",
              "      <td>NaN</td>\n",
              "      <td>Did</td>\n",
              "      <td>NaN</td>\n",
              "      <td>NaN</td>\n",
              "      <td>Director: Jean Yarbrough</td>\n",
              "      <td>NaN</td>\n",
              "      <td>NaN</td>\n",
              "      <td>Producer: Barney Gerard</td>\n",
              "      <td>NaN</td>\n",
              "      <td>NaN</td>\n",
              "      <td>&lt;div class=\"wDYxhc\" data-attrid=\"kc:/ugc:user_...</td>\n",
              "      <td>[&lt;div class=\"kp-wholepage kp-wholepage-osrp HS...</td>\n",
              "    </tr>\n",
              "    <tr>\n",
              "      <th>4</th>\n",
              "      <td>Ace in the Hole movie 1951</td>\n",
              "      <td>Ace in the Hole</td>\n",
              "      <td>NaN</td>\n",
              "      <td>NaN</td>\n",
              "      <td>NaN</td>\n",
              "      <td>NaN</td>\n",
              "      <td>NaN</td>\n",
              "      <td>NaN</td>\n",
              "      <td>With flaws that outweigh his talent, reporter ...</td>\n",
              "      <td>https://www.imdb.com/title/tt0043338/</td>\n",
              "      <td>8.1/10</td>\n",
              "      <td>https://www.rottentomatoes.com/m/1107426-ace_i...</td>\n",
              "      <td>92%</td>\n",
              "      <td>NaN</td>\n",
              "      <td>NaN</td>\n",
              "      <td>NaN</td>\n",
              "      <td>NaN</td>\n",
              "      <td>85%</td>\n",
              "      <td>NaN</td>\n",
              "      <td>June 29, 1951 (USA)</td>\n",
              "      <td>Director: Billy Wilder</td>\n",
              "      <td>National Board of Review Award for Best Actres...</td>\n",
              "      <td>NaN</td>\n",
              "      <td>NaN</td>\n",
              "      <td>NaN</td>\n",
              "      <td>NaN</td>\n",
              "      <td>&lt;div class=\"wDYxhc\" data-attrid=\"kc:/ugc:user_...</td>\n",
              "      <td>[&lt;div class=\"kp-wholepage kp-wholepage-osrp HS...</td>\n",
              "    </tr>\n",
              "  </tbody>\n",
              "</table>\n",
              "</div>\n",
              "      <button class=\"colab-df-convert\" onclick=\"convertToInteractive('df-f313917b-a0f2-4685-ad4c-08a6b21bb5bf')\"\n",
              "              title=\"Convert this dataframe to an interactive table.\"\n",
              "              style=\"display:none;\">\n",
              "        \n",
              "  <svg xmlns=\"http://www.w3.org/2000/svg\" height=\"24px\"viewBox=\"0 0 24 24\"\n",
              "       width=\"24px\">\n",
              "    <path d=\"M0 0h24v24H0V0z\" fill=\"none\"/>\n",
              "    <path d=\"M18.56 5.44l.94 2.06.94-2.06 2.06-.94-2.06-.94-.94-2.06-.94 2.06-2.06.94zm-11 1L8.5 8.5l.94-2.06 2.06-.94-2.06-.94L8.5 2.5l-.94 2.06-2.06.94zm10 10l.94 2.06.94-2.06 2.06-.94-2.06-.94-.94-2.06-.94 2.06-2.06.94z\"/><path d=\"M17.41 7.96l-1.37-1.37c-.4-.4-.92-.59-1.43-.59-.52 0-1.04.2-1.43.59L10.3 9.45l-7.72 7.72c-.78.78-.78 2.05 0 2.83L4 21.41c.39.39.9.59 1.41.59.51 0 1.02-.2 1.41-.59l7.78-7.78 2.81-2.81c.8-.78.8-2.07 0-2.86zM5.41 20L4 18.59l7.72-7.72 1.47 1.35L5.41 20z\"/>\n",
              "  </svg>\n",
              "      </button>\n",
              "      \n",
              "  <style>\n",
              "    .colab-df-container {\n",
              "      display:flex;\n",
              "      flex-wrap:wrap;\n",
              "      gap: 12px;\n",
              "    }\n",
              "\n",
              "    .colab-df-convert {\n",
              "      background-color: #E8F0FE;\n",
              "      border: none;\n",
              "      border-radius: 50%;\n",
              "      cursor: pointer;\n",
              "      display: none;\n",
              "      fill: #1967D2;\n",
              "      height: 32px;\n",
              "      padding: 0 0 0 0;\n",
              "      width: 32px;\n",
              "    }\n",
              "\n",
              "    .colab-df-convert:hover {\n",
              "      background-color: #E2EBFA;\n",
              "      box-shadow: 0px 1px 2px rgba(60, 64, 67, 0.3), 0px 1px 3px 1px rgba(60, 64, 67, 0.15);\n",
              "      fill: #174EA6;\n",
              "    }\n",
              "\n",
              "    [theme=dark] .colab-df-convert {\n",
              "      background-color: #3B4455;\n",
              "      fill: #D2E3FC;\n",
              "    }\n",
              "\n",
              "    [theme=dark] .colab-df-convert:hover {\n",
              "      background-color: #434B5C;\n",
              "      box-shadow: 0px 1px 3px 1px rgba(0, 0, 0, 0.15);\n",
              "      filter: drop-shadow(0px 1px 2px rgba(0, 0, 0, 0.3));\n",
              "      fill: #FFFFFF;\n",
              "    }\n",
              "  </style>\n",
              "\n",
              "      <script>\n",
              "        const buttonEl =\n",
              "          document.querySelector('#df-f313917b-a0f2-4685-ad4c-08a6b21bb5bf button.colab-df-convert');\n",
              "        buttonEl.style.display =\n",
              "          google.colab.kernel.accessAllowed ? 'block' : 'none';\n",
              "\n",
              "        async function convertToInteractive(key) {\n",
              "          const element = document.querySelector('#df-f313917b-a0f2-4685-ad4c-08a6b21bb5bf');\n",
              "          const dataTable =\n",
              "            await google.colab.kernel.invokeFunction('convertToInteractive',\n",
              "                                                     [key], {});\n",
              "          if (!dataTable) return;\n",
              "\n",
              "          const docLinkHtml = 'Like what you see? Visit the ' +\n",
              "            '<a target=\"_blank\" href=https://colab.research.google.com/notebooks/data_table.ipynb>data table notebook</a>'\n",
              "            + ' to learn more about interactive tables.';\n",
              "          element.innerHTML = '';\n",
              "          dataTable['output_type'] = 'display_data';\n",
              "          await google.colab.output.renderOutput(dataTable, element);\n",
              "          const docLink = document.createElement('div');\n",
              "          docLink.innerHTML = docLinkHtml;\n",
              "          element.appendChild(docLink);\n",
              "        }\n",
              "      </script>\n",
              "    </div>\n",
              "  </div>\n",
              "  "
            ],
            "text/plain": [
              "                                               query  ...                                 kp_whole_page_html\n",
              "0                         The 13th Letter movie 1951  ...  [<div class=\"kp-wholepage kp-wholepage-osrp HS...\n",
              "1  Abbott and Costello Meet the Invisible Man mov...  ...  [<div class=\"kp-wholepage kp-wholepage-osrp HS...\n",
              "2                           Abilene Trail movie 1951  ...  [<div class=\"kp-wholepage kp-wholepage-osrp HS...\n",
              "3                 According to Mrs. Hoyle movie 1951  ...  [<div class=\"kp-wholepage kp-wholepage-osrp HS...\n",
              "4                         Ace in the Hole movie 1951  ...  [<div class=\"kp-wholepage kp-wholepage-osrp HS...\n",
              "\n",
              "[5 rows x 28 columns]"
            ]
          },
          "metadata": {},
          "execution_count": 29
        }
      ]
    },
    {
      "cell_type": "code",
      "source": [
        "df.columns"
      ],
      "metadata": {
        "colab": {
          "base_uri": "https://localhost:8080/"
        },
        "id": "Y07zSoQc-zk4",
        "outputId": "fa93e99b-1ae9-4b64-db13-44d45f084070"
      },
      "execution_count": null,
      "outputs": [
        {
          "output_type": "execute_result",
          "data": {
            "text/plain": [
              "Index(['query', 'title', 'subtitle', 'maturity_rating', 'release_year',\n",
              "       'genre', 'duration', 'title_link', 'description', 'IMDb_link',\n",
              "       'IMDb_rating', 'rotten_tomatoes_link', 'rotten_tomatoes_rating',\n",
              "       'meta_critic_link', 'meta_critic_rating', 'indie_wire_link',\n",
              "       'indie_wire_rating', 'p_google_likes', 'box_office', 'release_date',\n",
              "       'directors', 'awards', 'film_series', 'producers', 'budget',\n",
              "       'critic_reviews_html', 'audience_reviews_html', 'kp_whole_page_html'],\n",
              "      dtype='object')"
            ]
          },
          "metadata": {},
          "execution_count": 30
        }
      ]
    },
    {
      "cell_type": "code",
      "source": [
        "ratings = ['IMDb_rating', 'rotten_tomatoes_rating', 'meta_critic_rating']"
      ],
      "metadata": {
        "id": "6P1VHuoG8emv"
      },
      "execution_count": null,
      "outputs": []
    },
    {
      "cell_type": "code",
      "source": [
        "df[ratings]"
      ],
      "metadata": {
        "colab": {
          "base_uri": "https://localhost:8080/",
          "height": 423
        },
        "id": "fW5_s3UL9OJX",
        "outputId": "d5f78740-52f8-420d-d826-2ef0b19fd517"
      },
      "execution_count": null,
      "outputs": [
        {
          "output_type": "execute_result",
          "data": {
            "text/html": [
              "\n",
              "  <div id=\"df-1a16cf23-d697-4e80-9e9d-9d9a66493a5b\">\n",
              "    <div class=\"colab-df-container\">\n",
              "      <div>\n",
              "<style scoped>\n",
              "    .dataframe tbody tr th:only-of-type {\n",
              "        vertical-align: middle;\n",
              "    }\n",
              "\n",
              "    .dataframe tbody tr th {\n",
              "        vertical-align: top;\n",
              "    }\n",
              "\n",
              "    .dataframe thead th {\n",
              "        text-align: right;\n",
              "    }\n",
              "</style>\n",
              "<table border=\"1\" class=\"dataframe\">\n",
              "  <thead>\n",
              "    <tr style=\"text-align: right;\">\n",
              "      <th></th>\n",
              "      <th>IMDb_rating</th>\n",
              "      <th>rotten_tomatoes_rating</th>\n",
              "      <th>meta_critic_rating</th>\n",
              "    </tr>\n",
              "  </thead>\n",
              "  <tbody>\n",
              "    <tr>\n",
              "      <th>0</th>\n",
              "      <td>6.4/10</td>\n",
              "      <td>86%</td>\n",
              "      <td>NaN</td>\n",
              "    </tr>\n",
              "    <tr>\n",
              "      <th>1</th>\n",
              "      <td>6.8/10</td>\n",
              "      <td>80%</td>\n",
              "      <td>NaN</td>\n",
              "    </tr>\n",
              "    <tr>\n",
              "      <th>2</th>\n",
              "      <td>6.5/10 ·</td>\n",
              "      <td>NaN</td>\n",
              "      <td>NaN</td>\n",
              "    </tr>\n",
              "    <tr>\n",
              "      <th>3</th>\n",
              "      <td>6.3/10 ·</td>\n",
              "      <td>NaN</td>\n",
              "      <td>NaN</td>\n",
              "    </tr>\n",
              "    <tr>\n",
              "      <th>4</th>\n",
              "      <td>8.1/10</td>\n",
              "      <td>92%</td>\n",
              "      <td>NaN</td>\n",
              "    </tr>\n",
              "    <tr>\n",
              "      <th>...</th>\n",
              "      <td>...</td>\n",
              "      <td>...</td>\n",
              "      <td>...</td>\n",
              "    </tr>\n",
              "    <tr>\n",
              "      <th>16324</th>\n",
              "      <td>7.6/10</td>\n",
              "      <td>92%</td>\n",
              "      <td>90%</td>\n",
              "    </tr>\n",
              "    <tr>\n",
              "      <th>16325</th>\n",
              "      <td>7.2/10</td>\n",
              "      <td>65%</td>\n",
              "      <td>61%</td>\n",
              "    </tr>\n",
              "    <tr>\n",
              "      <th>16326</th>\n",
              "      <td>7.1/10</td>\n",
              "      <td>73%</td>\n",
              "      <td>59%</td>\n",
              "    </tr>\n",
              "    <tr>\n",
              "      <th>16327</th>\n",
              "      <td>6.2/10</td>\n",
              "      <td>73%</td>\n",
              "      <td>NaN</td>\n",
              "    </tr>\n",
              "    <tr>\n",
              "      <th>16328</th>\n",
              "      <td>7.2/10 ·</td>\n",
              "      <td>NaN</td>\n",
              "      <td>NaN</td>\n",
              "    </tr>\n",
              "  </tbody>\n",
              "</table>\n",
              "<p>16329 rows × 3 columns</p>\n",
              "</div>\n",
              "      <button class=\"colab-df-convert\" onclick=\"convertToInteractive('df-1a16cf23-d697-4e80-9e9d-9d9a66493a5b')\"\n",
              "              title=\"Convert this dataframe to an interactive table.\"\n",
              "              style=\"display:none;\">\n",
              "        \n",
              "  <svg xmlns=\"http://www.w3.org/2000/svg\" height=\"24px\"viewBox=\"0 0 24 24\"\n",
              "       width=\"24px\">\n",
              "    <path d=\"M0 0h24v24H0V0z\" fill=\"none\"/>\n",
              "    <path d=\"M18.56 5.44l.94 2.06.94-2.06 2.06-.94-2.06-.94-.94-2.06-.94 2.06-2.06.94zm-11 1L8.5 8.5l.94-2.06 2.06-.94-2.06-.94L8.5 2.5l-.94 2.06-2.06.94zm10 10l.94 2.06.94-2.06 2.06-.94-2.06-.94-.94-2.06-.94 2.06-2.06.94z\"/><path d=\"M17.41 7.96l-1.37-1.37c-.4-.4-.92-.59-1.43-.59-.52 0-1.04.2-1.43.59L10.3 9.45l-7.72 7.72c-.78.78-.78 2.05 0 2.83L4 21.41c.39.39.9.59 1.41.59.51 0 1.02-.2 1.41-.59l7.78-7.78 2.81-2.81c.8-.78.8-2.07 0-2.86zM5.41 20L4 18.59l7.72-7.72 1.47 1.35L5.41 20z\"/>\n",
              "  </svg>\n",
              "      </button>\n",
              "      \n",
              "  <style>\n",
              "    .colab-df-container {\n",
              "      display:flex;\n",
              "      flex-wrap:wrap;\n",
              "      gap: 12px;\n",
              "    }\n",
              "\n",
              "    .colab-df-convert {\n",
              "      background-color: #E8F0FE;\n",
              "      border: none;\n",
              "      border-radius: 50%;\n",
              "      cursor: pointer;\n",
              "      display: none;\n",
              "      fill: #1967D2;\n",
              "      height: 32px;\n",
              "      padding: 0 0 0 0;\n",
              "      width: 32px;\n",
              "    }\n",
              "\n",
              "    .colab-df-convert:hover {\n",
              "      background-color: #E2EBFA;\n",
              "      box-shadow: 0px 1px 2px rgba(60, 64, 67, 0.3), 0px 1px 3px 1px rgba(60, 64, 67, 0.15);\n",
              "      fill: #174EA6;\n",
              "    }\n",
              "\n",
              "    [theme=dark] .colab-df-convert {\n",
              "      background-color: #3B4455;\n",
              "      fill: #D2E3FC;\n",
              "    }\n",
              "\n",
              "    [theme=dark] .colab-df-convert:hover {\n",
              "      background-color: #434B5C;\n",
              "      box-shadow: 0px 1px 3px 1px rgba(0, 0, 0, 0.15);\n",
              "      filter: drop-shadow(0px 1px 2px rgba(0, 0, 0, 0.3));\n",
              "      fill: #FFFFFF;\n",
              "    }\n",
              "  </style>\n",
              "\n",
              "      <script>\n",
              "        const buttonEl =\n",
              "          document.querySelector('#df-1a16cf23-d697-4e80-9e9d-9d9a66493a5b button.colab-df-convert');\n",
              "        buttonEl.style.display =\n",
              "          google.colab.kernel.accessAllowed ? 'block' : 'none';\n",
              "\n",
              "        async function convertToInteractive(key) {\n",
              "          const element = document.querySelector('#df-1a16cf23-d697-4e80-9e9d-9d9a66493a5b');\n",
              "          const dataTable =\n",
              "            await google.colab.kernel.invokeFunction('convertToInteractive',\n",
              "                                                     [key], {});\n",
              "          if (!dataTable) return;\n",
              "\n",
              "          const docLinkHtml = 'Like what you see? Visit the ' +\n",
              "            '<a target=\"_blank\" href=https://colab.research.google.com/notebooks/data_table.ipynb>data table notebook</a>'\n",
              "            + ' to learn more about interactive tables.';\n",
              "          element.innerHTML = '';\n",
              "          dataTable['output_type'] = 'display_data';\n",
              "          await google.colab.output.renderOutput(dataTable, element);\n",
              "          const docLink = document.createElement('div');\n",
              "          docLink.innerHTML = docLinkHtml;\n",
              "          element.appendChild(docLink);\n",
              "        }\n",
              "      </script>\n",
              "    </div>\n",
              "  </div>\n",
              "  "
            ],
            "text/plain": [
              "      IMDb_rating rotten_tomatoes_rating meta_critic_rating\n",
              "0          6.4/10                    86%                NaN\n",
              "1          6.8/10                    80%                NaN\n",
              "2       6.5/10 ·                     NaN                NaN\n",
              "3       6.3/10 ·                     NaN                NaN\n",
              "4          8.1/10                    92%                NaN\n",
              "...           ...                    ...                ...\n",
              "16324      7.6/10                    92%                90%\n",
              "16325      7.2/10                    65%                61%\n",
              "16326      7.1/10                    73%                59%\n",
              "16327      6.2/10                    73%                NaN\n",
              "16328   7.2/10 ·                     NaN                NaN\n",
              "\n",
              "[16329 rows x 3 columns]"
            ]
          },
          "metadata": {},
          "execution_count": 32
        }
      ]
    },
    {
      "cell_type": "code",
      "source": [
        "use_cols = ['query', 'description'] + ratings"
      ],
      "metadata": {
        "id": "aQKDff7L-zis"
      },
      "execution_count": null,
      "outputs": []
    },
    {
      "cell_type": "code",
      "source": [
        "use_cols"
      ],
      "metadata": {
        "colab": {
          "base_uri": "https://localhost:8080/"
        },
        "id": "TI_qspPnAYmR",
        "outputId": "55315a5c-adf4-4542-c81e-64c6a6dbe031"
      },
      "execution_count": null,
      "outputs": [
        {
          "output_type": "execute_result",
          "data": {
            "text/plain": [
              "['query',\n",
              " 'description',\n",
              " 'IMDb_rating',\n",
              " 'rotten_tomatoes_rating',\n",
              " 'meta_critic_rating']"
            ]
          },
          "metadata": {},
          "execution_count": 34
        }
      ]
    },
    {
      "cell_type": "code",
      "source": [
        "df[use_cols].isna().sum()"
      ],
      "metadata": {
        "colab": {
          "base_uri": "https://localhost:8080/"
        },
        "id": "aRQ1tZZOBSf9",
        "outputId": "af8e6325-26b1-45f1-9e1e-99e9ebefbabf"
      },
      "execution_count": null,
      "outputs": [
        {
          "output_type": "execute_result",
          "data": {
            "text/plain": [
              "query                         0\n",
              "description                 641\n",
              "IMDb_rating                 845\n",
              "rotten_tomatoes_rating     3633\n",
              "meta_critic_rating        12437\n",
              "dtype: int64"
            ]
          },
          "metadata": {},
          "execution_count": 35
        }
      ]
    },
    {
      "cell_type": "code",
      "source": [
        "df['query'].sample(5)"
      ],
      "metadata": {
        "id": "UnmHz5d5q6sJ",
        "colab": {
          "base_uri": "https://localhost:8080/"
        },
        "outputId": "d3881e56-d3f0-497a-9212-1f2c319085c5"
      },
      "execution_count": null,
      "outputs": [
        {
          "output_type": "execute_result",
          "data": {
            "text/plain": [
              "13964            Seven Days in Utopia movie 2011\n",
              "11866    The Lost Skeleton of Cadavra movie 2001\n",
              "11170                  Color of Night movie 1994\n",
              "8106                      Fever Pitch movie 1985\n",
              "1402          Last of the Pony Riders movie 1953\n",
              "Name: query, dtype: object"
            ]
          },
          "metadata": {},
          "execution_count": 36
        }
      ]
    },
    {
      "cell_type": "code",
      "source": [
        ""
      ],
      "metadata": {
        "id": "NfzzSBuwK8bj"
      },
      "execution_count": null,
      "outputs": []
    }
  ]
}